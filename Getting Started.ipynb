{
 "cells": [
  {
   "cell_type": "markdown",
   "id": "a5e2667d",
   "metadata": {},
   "source": [
    "https://ai.google.dev/gemini-api/docs/get-started/tutorial?lang=python"
   ]
  },
  {
   "cell_type": "code",
   "execution_count": 1,
   "id": "4e880ea2",
   "metadata": {},
   "outputs": [],
   "source": [
    "import pathlib\n",
    "import textwrap\n",
    "import os\n",
    "import google.generativeai as genai\n",
    "from IPython.display import display\n",
    "from IPython.display import Markdown\n",
    "\n",
    "def to_markdown(text):\n",
    "    text = text.replace('•', '  *')\n",
    "    return Markdown(textwrap.indent(text, '> ', predicate=lambda _: True))"
   ]
  },
  {
   "cell_type": "markdown",
   "id": "146b4844",
   "metadata": {},
   "source": [
    "# Load Key"
   ]
  },
  {
   "cell_type": "code",
   "execution_count": 3,
   "id": "96bcb962",
   "metadata": {},
   "outputs": [],
   "source": [
    "from dotenv import load_dotenv, find_dotenv\n",
    "from pathlib import Path\n",
    "load_dotenv(Path(\".env\"))\n",
    "GOOGLE_API_KEY=os.getenv('GOOGLE_API_KEY')"
   ]
  },
  {
   "cell_type": "markdown",
   "id": "5d0fb2a6",
   "metadata": {},
   "source": [
    "Remove # from line below and run cell to check if GOOGLE_API_KEY loaded correctly"
   ]
  },
  {
   "cell_type": "code",
   "execution_count": 9,
   "id": "bcedb840",
   "metadata": {},
   "outputs": [],
   "source": [
    "#print(GOOGLE_API_KEY)"
   ]
  },
  {
   "cell_type": "markdown",
   "id": "c13852fe",
   "metadata": {},
   "source": [
    "# Test that can Run Model"
   ]
  },
  {
   "cell_type": "code",
   "execution_count": 7,
   "id": "5079547a",
   "metadata": {},
   "outputs": [],
   "source": [
    "model = genai.GenerativeModel('gemini-pro')"
   ]
  },
  {
   "cell_type": "code",
   "execution_count": 8,
   "id": "67205f7f",
   "metadata": {},
   "outputs": [
    {
     "name": "stdout",
     "output_type": "stream",
     "text": [
      "CPU times: user 28.5 ms, sys: 10.6 ms, total: 39.1 ms\n",
      "Wall time: 7.41 s\n"
     ]
    },
    {
     "data": {
      "text/markdown": [
       "> The meaning of life is a profound philosophical question that has been contemplated by humans for centuries. There is no single definitive answer, as the meaning of life is subjective and can vary greatly from individual to individual. However, some common themes that have emerged over time include:\n",
       "> \n",
       "> 1. **Purpose and Fulfillment:** Many people find meaning in their lives by pursuing their passions, goals, and interests. When they engage in activities that they find meaningful and fulfilling, they experience a sense of purpose and direction.\n",
       "> \n",
       "> 2. **Relationships and Connections:** Human relationships can provide a deep sense of meaning and purpose. Connecting with loved ones, friends, and community members can bring joy, support, and a sense of belonging.\n",
       "> \n",
       "> 3. **Values and Principles:** Living in accordance with one's values and principles can provide a sense of meaning and fulfillment. When individuals act in a way that aligns with their core beliefs, they experience a sense of integrity and authenticity.\n",
       "> \n",
       "> 4. **Contribution and Impact:** Making a positive contribution to society or the world can give life meaning. Engaging in volunteer work, supporting charitable causes, or creating something that benefits others can create a sense of purpose and legacy.\n",
       "> \n",
       "> 5. **Personal Growth and Self-Discovery:** The journey of self-discovery and personal growth can be deeply meaningful. As individuals learn about themselves, develop their skills, and overcome challenges, they gain a greater understanding of their purpose and potential.\n",
       "> \n",
       "> 6. **Experiences and Moments:** Life is filled with countless experiences and moments, both big and small. Appreciating and savoring these moments, both the good and the challenging ones, can contribute to a sense of meaning.\n",
       "> \n",
       "> 7. **Legacy and Impact:** Leaving a lasting legacy or making a positive impact on the world can provide a sense of meaning and purpose. Individuals may find meaning in knowing that their actions and contributions will continue to resonate long after they are gone.\n",
       "> \n",
       "> Ultimately, the meaning of life is a personal and ongoing journey of exploration and discovery. It is up to each individual to find what brings them purpose, fulfillment, and a sense of significance."
      ],
      "text/plain": [
       "<IPython.core.display.Markdown object>"
      ]
     },
     "execution_count": 8,
     "metadata": {},
     "output_type": "execute_result"
    }
   ],
   "source": [
    "%%time\n",
    "response = model.generate_content(\"What is the meaning of life?\")\n",
    "to_markdown(response.text)"
   ]
  },
  {
   "cell_type": "code",
   "execution_count": null,
   "id": "a098a317",
   "metadata": {},
   "outputs": [],
   "source": []
  }
 ],
 "metadata": {
  "kernelspec": {
   "display_name": "Python 3 (ipykernel)",
   "language": "python",
   "name": "python3"
  },
  "language_info": {
   "codemirror_mode": {
    "name": "ipython",
    "version": 3
   },
   "file_extension": ".py",
   "mimetype": "text/x-python",
   "name": "python",
   "nbconvert_exporter": "python",
   "pygments_lexer": "ipython3",
   "version": "3.9.15"
  }
 },
 "nbformat": 4,
 "nbformat_minor": 5
}
