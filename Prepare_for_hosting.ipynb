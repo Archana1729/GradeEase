{
 "cells": [
  {
   "cell_type": "code",
   "execution_count": 1,
   "id": "45c995bb",
   "metadata": {},
   "outputs": [],
   "source": [
    "import os\n",
    "import json"
   ]
  },
  {
   "cell_type": "code",
   "execution_count": 2,
   "id": "11545d55",
   "metadata": {},
   "outputs": [],
   "source": [
    "# user input\n",
    "site_type = 'develpment_site'"
   ]
  },
  {
   "cell_type": "code",
   "execution_count": 3,
   "id": "94bfab4f",
   "metadata": {},
   "outputs": [],
   "source": [
    "API_urls = {'develpment_site': 'https://grademate.pythonanywhere.com/',\n",
    "           'production_site': 'https://grade-mate.app/' }"
   ]
  },
  {
   "cell_type": "code",
   "execution_count": 4,
   "id": "96c6da58",
   "metadata": {},
   "outputs": [
    {
     "name": "stdout",
     "output_type": "stream",
     "text": [
      "Backend server URL selected:  https://grademate.pythonanywhere.com/\n"
     ]
    }
   ],
   "source": [
    "# step 1: select URL for API\n",
    "server_url = API_urls[site_type]\n",
    "print(\"Backend server URL selected: \", server_url)"
   ]
  },
  {
   "cell_type": "code",
   "execution_count": 5,
   "id": "2a5c8465",
   "metadata": {},
   "outputs": [
    {
     "name": "stdout",
     "output_type": "stream",
     "text": [
      "Config.json file overwritten with backend server URL.\n"
     ]
    }
   ],
   "source": [
    "# step 2: overwrite config.json file\n",
    "config_dict = {\"SERVER_URL\": server_url}\n",
    "\n",
    "# Convert and write JSON object to file\n",
    "with open(\"frontend/src/config.json\", \"w\") as outfile: \n",
    "    json.dump(config_dict, outfile)\n",
    "print(\"Config.json file overwritten with backend server URL.\")"
   ]
  },
  {
   "cell_type": "code",
   "execution_count": 6,
   "id": "8944a04a",
   "metadata": {},
   "outputs": [
    {
     "name": "stdout",
     "output_type": "stream",
     "text": [
      "Start build.\n",
      "\n",
      "> frontend@0.1.0 build\n",
      "> react-scripts build\n",
      "\n",
      "Creating an optimized production build...\n",
      "Compiled with warnings.\n",
      "\n",
      "[eslint] \n",
      "src/components/ObtainRubricNames.js\n",
      "  Line 22:6:  React Hook useEffect has a missing dependency: 'BASE_URL'. Either include it or remove the dependency array  react-hooks/exhaustive-deps\n",
      "\n",
      "src/components/ViewGradingRubricDetails.js\n",
      "  Line 26:6:  React Hook useEffect has a missing dependency: 'BASE_URL'. Either include it or remove the dependency array  react-hooks/exhaustive-deps\n",
      "\n",
      "Search for the keywords to learn more about each warning.\n",
      "To ignore, add // eslint-disable-next-line to the line before.\n",
      "\n",
      "File sizes after gzip:\n",
      "\n",
      "  104.85 kB  build/static/js/main.5b01bef2.js\n",
      "  1.78 kB    build/static/js/453.8ab44547.chunk.js\n",
      "  1.04 kB    build/static/css/main.81ccc85a.css\n",
      "\n",
      "The project was built assuming it is hosted at /.\n",
      "You can control this with the homepage field in your package.json.\n",
      "\n",
      "The build folder is ready to be deployed.\n",
      "You may serve it with a static server:\n",
      "\n",
      "  serve -s build\n",
      "\n",
      "Find out more about deployment here:\n",
      "\n",
      "  https://cra.link/deployment\n",
      "\n",
      "Frontend build folder generated.\n"
     ]
    }
   ],
   "source": [
    "# step 3: run build\n",
    "print(\"Start build.\")\n",
    "bashCommand = \"npm --prefix ./frontend run build\"\n",
    "os.system(bashCommand)\n",
    "print(\"Frontend build folder generated.\")"
   ]
  },
  {
   "cell_type": "code",
   "execution_count": 7,
   "id": "e8b6561a",
   "metadata": {},
   "outputs": [
    {
     "name": "stdout",
     "output_type": "stream",
     "text": [
      "Collecting static files from frontend and backend.\n",
      "\n",
      "13 static files copied to '/Users/laura/Desktop/grading_assistant/static', 161 unmodified.\n",
      "Static folder ready\n"
     ]
    }
   ],
   "source": [
    "# step 4: collectstatic\n",
    "print(\"Collecting static files from frontend and backend.\")\n",
    "\n",
    "import sys\n",
    "from django.core.management import execute_from_command_line\n",
    "\n",
    "# Ensure the script is being executed in the Django project directory\n",
    "os.environ['DJANGO_SETTINGS_MODULE'] = 'grading_assistant.settings'\n",
    "os.environ[\"DJANGO_ALLOW_ASYNC_UNSAFE\"] = \"True\"\n",
    "\n",
    "# Set up Django\n",
    "import django\n",
    "django.setup()\n",
    "\n",
    "# Run the collectstatic command\n",
    "execute_from_command_line(['manage.py', 'collectstatic', '--noinput'])\n",
    "\n",
    "print(\"Static folder ready\")"
   ]
  },
  {
   "cell_type": "code",
   "execution_count": 8,
   "id": "094158a2",
   "metadata": {},
   "outputs": [
    {
     "name": "stdout",
     "output_type": "stream",
     "text": [
      "Now the project is ready for the live site. Next step: use git to push your changes.\n"
     ]
    }
   ],
   "source": [
    "print(\"Now the project is ready for the live site. Next step: use git to push your changes.\")"
   ]
  },
  {
   "cell_type": "code",
   "execution_count": null,
   "id": "3ce52f6c",
   "metadata": {},
   "outputs": [],
   "source": []
  }
 ],
 "metadata": {
  "kernelspec": {
   "display_name": "Python venv",
   "language": "python",
   "name": "venv"
  },
  "language_info": {
   "codemirror_mode": {
    "name": "ipython",
    "version": 3
   },
   "file_extension": ".py",
   "mimetype": "text/x-python",
   "name": "python",
   "nbconvert_exporter": "python",
   "pygments_lexer": "ipython3",
   "version": "3.9.15"
  }
 },
 "nbformat": 4,
 "nbformat_minor": 5
}
